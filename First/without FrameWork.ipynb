{
 "cells": [
  {
   "cell_type": "code",
   "execution_count": 1,
   "metadata": {
    "collapsed": true
   },
   "outputs": [],
   "source": [
    "import numpy as np\n",
    "import pandas as pd\n",
    "import networkx as nx\n",
    "import scipy as sp\n",
    "import matplotlib.pyplot as plt\n",
    "get_ipython().magic(u'matplotlib inline')\n",
    "\n",
    "import glob\n",
    "from nltk.stem.porter import *\n",
    "from nltk.tokenize import word_tokenize\n",
    "from nltk.tokenize import RegexpTokenizer\n",
    "import string\n",
    "\n",
    "\n",
    "from nltk.corpus import stopwords\n",
    "from collections import defaultdict\n",
    "from gensim import corpora,models, similarities\n",
    "\n",
    "from scipy import sparse\n",
    "import numpy as np"
   ]
  },
  {
   "cell_type": "code",
   "execution_count": 5,
   "metadata": {
    "collapsed": false
   },
   "outputs": [
    {
     "name": "stdout",
     "output_type": "stream",
     "text": [
      "sraa\\realauto.... is created\n",
      "sraa\\simauto.... is created\n"
     ]
    }
   ],
   "source": [
    "directorytemp = glob.glob('sraa/*')\n",
    "directory = directorytemp[0],directorytemp[2]\n",
    "documents = []\n",
    "stemmer = PorterStemmer()\n",
    "\n",
    "for folder in directory:\n",
    "    print folder + '....',\n",
    "    tmp = []\n",
    "    files = glob.glob(folder+\"/*\")\n",
    "    nums = 0\n",
    "    for fileName in files:\n",
    "        f = open(fileName,'r')\n",
    "        data = f.read()\n",
    "        data = ''.join(i if ord(i)<128 else ' ' for i in data )\n",
    "        data = data.lower()\n",
    "        \n",
    "        #toker = RegexpTokenizer(r'((?<=[^\\w\\s])\\w(?=[^\\w\\s])|(\\W))+', gaps=True)\n",
    "        #dataA = toker.tokenize(data)\n",
    "        \n",
    "        dataA = word_tokenize(data)\n",
    "        dataA_without_punc = [i for i in dataA if i not in string.punctuation]\n",
    "        \n",
    "        single = ' '.join([stemmer.stem(w) for w in dataA_without_punc])\n",
    "        tmp.append(single)\n",
    "    print 'is created'\n",
    "    documents.append(tmp)"
   ]
  },
  {
   "cell_type": "code",
   "execution_count": 6,
   "metadata": {
    "collapsed": false
   },
   "outputs": [
    {
     "name": "stdout",
     "output_type": "stream",
     "text": [
      "127\n"
     ]
    }
   ],
   "source": [
    "subDirectory = 'run_sraa'\n",
    "\n",
    "def preprocess(documents):\n",
    "    # documents = ['babak is khar','hasan is good']\n",
    "    stopList = stopwords.words('english')\n",
    "    print len(stopList)\n",
    "    texts = [[word for word in document.lower().split() if word not in stopList]#+nontfidf]\n",
    "         for document in documents]\n",
    "    frequency = defaultdict(int)\n",
    "    for text in texts:\n",
    "        for token in text:\n",
    "            frequency[token] += 1\n",
    "    numberOfDocuments = len(documents)\n",
    "    return [[token for token in text if (frequency[token] > 1 and frequency[token] < numberOfDocuments) ]\n",
    "        for text in texts]\n",
    "    \n",
    "    \n",
    "    \n",
    "def makeCorpus(texts):\n",
    "    # texts = [['babak', 'is' , 'khar'],['hasan', 'is','good']]\n",
    "    # it means we do some preprocess like: stopword, common word, ...\n",
    "    dictionary = corpora.Dictionary(texts)\n",
    "    dictionary.save(subDirectory+'/dictionary_without.dict')\n",
    "#     print dictionary.token2id\n",
    "    return [dictionary.doc2bow(text) for text in texts]\n",
    "\n",
    "\n",
    "numOfDocs = 0\n",
    "for docs in documents:\n",
    "    numOfDocs += len(docs)\n",
    "classes = np.zeros(numOfDocs,dtype=int)\n",
    "\n",
    "alldocs = []\n",
    "idx = 0\n",
    "classLabel = 0\n",
    "for docs in documents:\n",
    "    for doc in docs:\n",
    "        alldocs.append(doc)\n",
    "        classes[idx] = classLabel\n",
    "        idx += 1\n",
    "    classLabel += 1\n",
    "        \n",
    "texts = preprocess(alldocs)\n",
    "corpus = makeCorpus(texts)\n",
    "corpora.MmCorpus.serialize(subDirectory+'/corpus_without.mm', corpus)\n",
    "np.savetxt(subDirectory + '/classes_without.dat',classes)\n"
   ]
  },
  {
   "cell_type": "code",
   "execution_count": 7,
   "metadata": {
    "collapsed": true
   },
   "outputs": [],
   "source": [
    "from gensim.models.ldamodel import LdaModel\n",
    "\n",
    "corpus = corpora.MmCorpus(subDirectory+'/corpus_without.mm')\n",
    "dictionary = corpora.dictionary.Dictionary.load(subDirectory+'/dictionary_without.dict')\n",
    "classes = np.loadtxt(subDirectory+'/classes_without.dat',dtype=int)\n",
    "\n",
    "\n",
    "ldaModel = LdaModel(corpus, num_topics=30, id2word = dictionary, passes=20)\n",
    "ldaModel.save(subDirectory+'/lda_without.model')\n",
    "\n",
    "tfidfModel = models.TfidfModel(corpus)\n",
    "tfidfModel.save(subDirectory+'/sraa.tfidf_without_model')"
   ]
  },
  {
   "cell_type": "code",
   "execution_count": 11,
   "metadata": {
    "collapsed": false
   },
   "outputs": [
    {
     "data": {
      "text/plain": [
       "0.93358181463583767"
      ]
     },
     "execution_count": 11,
     "metadata": {},
     "output_type": "execute_result"
    }
   ],
   "source": [
    "from gensim.models.ldamodel import LdaModel\n",
    "ldaModel = LdaModel.load(subDirectory+'/lda_without.model')\n",
    "\n",
    "sparseDataLda = []\n",
    "ldaFeatureNum = 0\n",
    "for data in corpus:\n",
    "    ldaData = ldaModel[data]\n",
    "    sparseDataLda.append(ldaData)    \n",
    "    for i in ldaData:\n",
    "        ldaFeatureNum = max(ldaFeatureNum,i[0])\n",
    "        \n",
    "numData = len(corpus)\n",
    "ldaFeatureNum = 30\n",
    "dataset = pd.DataFrame(np.zeros((numData,ldaFeatureNum)))\n",
    "\n",
    "for i in range(numData):\n",
    "    for t in sparseDataLda[i]:\n",
    "        dataset[t[0]].ix[i] = t[1]\n",
    "\n",
    "X1 = dataset[classes== 0]\n",
    "X2 = dataset[classes== 1]\n",
    "\n",
    "\n",
    "Y = pd.Series(classes)\n",
    "\n",
    "Xtrain = pd.concat([X1,X2])\n",
    "Y1 = Y[Y==0]\n",
    "Y2 = Y[Y==1]\n",
    "Ytrain = pd.concat([Y1,Y2])\n",
    "\n",
    "\n",
    "from sklearn import svm\n",
    "clf = svm.LinearSVC()\n",
    "clf.fit(Xtrain,Ytrain)\n",
    "Ypred = clf.predict(Xtrain)\n",
    "((Ypred==Ytrain).sum()*1.0)/len(Ytrain)"
   ]
  }
 ],
 "metadata": {
  "kernelspec": {
   "display_name": "Python 2",
   "language": "python",
   "name": "python2"
  },
  "language_info": {
   "codemirror_mode": {
    "name": "ipython",
    "version": 2
   },
   "file_extension": ".py",
   "mimetype": "text/x-python",
   "name": "python",
   "nbconvert_exporter": "python",
   "pygments_lexer": "ipython2",
   "version": "2.7.9"
  }
 },
 "nbformat": 4,
 "nbformat_minor": 0
}
