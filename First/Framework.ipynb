{
 "cells": [
  {
   "cell_type": "markdown",
   "metadata": {},
   "source": [
    "<h1><b> Stage 1:  Reading data and preparing data for input <b></h1>"
   ]
  },
  {
   "cell_type": "code",
   "execution_count": 1,
   "metadata": {
    "collapsed": true
   },
   "outputs": [],
   "source": [
    "import numpy as np\n",
    "import pandas as pd\n",
    "import networkx as nx\n",
    "import scipy as sp\n",
    "import matplotlib.pyplot as plt\n",
    "get_ipython().magic(u'matplotlib inline')\n",
    "\n",
    "import glob\n",
    "from nltk.stem.porter import *\n",
    "from nltk.tokenize import word_tokenize\n",
    "from nltk.tokenize import RegexpTokenizer\n",
    "import string\n",
    "\n",
    "\n",
    "from nltk.corpus import stopwords\n",
    "from collections import defaultdict\n",
    "from gensim import corpora,models, similarities\n",
    "\n",
    "from scipy import sparse\n",
    "import numpy as np"
   ]
  },
  {
   "cell_type": "code",
   "execution_count": 2,
   "metadata": {
    "collapsed": false
   },
   "outputs": [
    {
     "name": "stdout",
     "output_type": "stream",
     "text": [
      "sraa\\realauto.... is created\n",
      "sraa\\realaviation.... is created\n",
      "sraa\\simauto.... is created\n",
      "sraa\\simaviation.... is created\n"
     ]
    }
   ],
   "source": [
    "directory = glob.glob('sraa/*')\n",
    "documents = []\n",
    "stemmer = PorterStemmer()\n",
    "\n",
    "for folder in directory:\n",
    "    print folder + '....',\n",
    "    tmp = []\n",
    "    files = glob.glob(folder+\"/*\")\n",
    "    nums = 0\n",
    "    for fileName in files:\n",
    "        f = open(fileName,'r')\n",
    "        data = f.read()\n",
    "        data = ''.join(i if ord(i)<128 else ' ' for i in data )\n",
    "        data = data.lower()\n",
    "        \n",
    "        #toker = RegexpTokenizer(r'((?<=[^\\w\\s])\\w(?=[^\\w\\s])|(\\W))+', gaps=True)\n",
    "        #dataA = toker.tokenize(data)\n",
    "        \n",
    "        dataA = word_tokenize(data)\n",
    "        dataA_without_punc = [i for i in dataA if i not in string.punctuation]\n",
    "        \n",
    "        single = ' '.join([stemmer.stem(w) for w in dataA_without_punc])\n",
    "        tmp.append(single)\n",
    "    print 'is created'\n",
    "    documents.append(tmp)"
   ]
  },
  {
   "cell_type": "markdown",
   "metadata": {},
   "source": [
    "<h1><b> Stage 2:  Preprocessing on data <b></h1>"
   ]
  },
  {
   "cell_type": "code",
   "execution_count": 23,
   "metadata": {
    "collapsed": false
   },
   "outputs": [
    {
     "name": "stdout",
     "output_type": "stream",
     "text": [
      "127\n"
     ]
    }
   ],
   "source": [
    "subDirectory = 'run_sraa'\n",
    "\n",
    "\n",
    "\n",
    "def preprocess(documents):\n",
    "    # documents = ['babak is khar','hasan is good']\n",
    "    stopList = stopwords.words('english')\n",
    "    print len(stopList)\n",
    "    texts = [[word for word in document.lower().split() if word not in stopList]#+nontfidf]\n",
    "         for document in documents]\n",
    "    frequency = defaultdict(int)\n",
    "    for text in texts:\n",
    "        for token in text:\n",
    "            frequency[token] += 1\n",
    "    numberOfDocuments = len(documents)\n",
    "    return [[token for token in text if (frequency[token] > 1 and frequency[token] < numberOfDocuments) ]\n",
    "        for text in texts]\n",
    "    \n",
    "    \n",
    "    \n",
    "def makeCorpus(texts):\n",
    "    # texts = [['babak', 'is' , 'khar'],['hasan', 'is','good']]\n",
    "    # it means we do some preprocess like: stopword, common word, ...\n",
    "    dictionary = corpora.Dictionary(texts)\n",
    "    dictionary.save(subDirectory+'/dictionary.dict')\n",
    "#     print dictionary.token2id\n",
    "    return [dictionary.doc2bow(text) for text in texts]\n",
    "\n",
    "\n",
    "numOfDocs = 0\n",
    "for docs in documents:\n",
    "    numOfDocs += len(docs)\n",
    "classes = np.zeros(numOfDocs,dtype=int)\n",
    "\n",
    "\n",
    "classLabels = [0,1,2,3]\n",
    "alldocs = []\n",
    "idx = 0\n",
    "classIdx = 0\n",
    "for docs in documents:\n",
    "    for doc in docs:\n",
    "        alldocs.append(doc)\n",
    "        classes[idx] = classLabels[classIdx]\n",
    "        idx += 1\n",
    "    classIdx += 1\n",
    "        \n",
    "texts = preprocess(alldocs)\n",
    "corpus = makeCorpus(texts)\n",
    "corpora.MmCorpus.serialize(subDirectory+'/corpus.mm', corpus)\n",
    "np.savetxt(subDirectory + '/classes.dat',classes)\n",
    "\n"
   ]
  },
  {
   "cell_type": "markdown",
   "metadata": {},
   "source": [
    "<h1>Stage 3: Constructing Feature models</h1>"
   ]
  },
  {
   "cell_type": "code",
   "execution_count": 30,
   "metadata": {
    "collapsed": false
   },
   "outputs": [],
   "source": [
    "from gensim.models.ldamodel import LdaModel\n",
    "\n",
    "corpus = corpora.MmCorpus(subDirectory+'/corpus.mm')\n",
    "dictionary = corpora.dictionary.Dictionary.load(subDirectory+'/dictionary.dict')\n",
    "classes = np.loadtxt(subDirectory+'/classes.dat',dtype=int)\n",
    "\n",
    "\n",
    "ldaModel = LdaModel(corpus, num_topics=30, id2word = dictionary, passes=20)\n",
    "ldaModel.save(subDirectory+'/lda.model')\n",
    "\n",
    "tfidfModel = models.TfidfModel(corpus)\n",
    "tfidfModel.save(subDirectory+'/sraa.tfidf_model')\n"
   ]
  },
  {
   "cell_type": "markdown",
   "metadata": {},
   "source": [
    "<h1>Stage 5: Constructing New Representation</h1>"
   ]
  },
  {
   "cell_type": "code",
   "execution_count": 32,
   "metadata": {
    "collapsed": true
   },
   "outputs": [],
   "source": []
  },
  {
   "cell_type": "code",
   "execution_count": 33,
   "metadata": {
    "collapsed": false
   },
   "outputs": [
    {
     "data": {
      "text/plain": [
       "30"
      ]
     },
     "execution_count": 33,
     "metadata": {},
     "output_type": "execute_result"
    }
   ],
   "source": [
    "model.num_topics"
   ]
  },
  {
   "cell_type": "code",
   "execution_count": 19,
   "metadata": {
    "collapsed": false
   },
   "outputs": [
    {
     "name": "stdout",
     "output_type": "stream",
     "text": [
      "0.811169743218\n"
     ]
    },
    {
     "data": {
      "image/png": "[encoded data removed]",
      "text/plain": [
       "<matplotlib.figure.Figure at 0x3f76e278>"
      ]
     },
     "metadata": {},
     "output_type": "display_data"
    }
   ],
   "source": [
    "corpus = corpora.MmCorpus(subDirectory+'/all_corpus.mm')\n",
    "dictionary = corpora.dictionary.Dictionary.load(subDirectory+'/all_dictionary.dict')\n",
    "classes = np.loadtxt(subDirectory+'/all_classes.dat',dtype=int)\n",
    "from gensim.models.ldamodel import LdaModel\n",
    "subDirectory = 'run_sraa'\n",
    "model = LdaModel.load(subDirectory+'/all_sraa.lda_model')\n",
    "\n",
    "numFeatures = model.num_topics\n",
    "numData = len(corpus)\n",
    "numNodes = numData + numFeatures + 2\n",
    "\n",
    "sparseData = []\n",
    "for data in corpus:\n",
    "    sparseData.append(model[data])\n",
    "\n",
    "A = sparse.lil_matrix((numNodes,numNodes))\n",
    "\n",
    "# features: 0-numFeatures\n",
    "# data: numFeature-(numFeature+numData)\n",
    "# label: (numFeature+numData), (numFeature+numData+1)\n",
    "# connect datas to features\n",
    "for i in range(numData):\n",
    "    for t in sparseData[i]:\n",
    "        feature,weight = t[0],t[1]\n",
    "        A[i+numFeatures,feature] = weight\n",
    "        A[feature,i+numFeatures] = weight\n",
    "\n",
    "# connect datas to labels\n",
    "for i in xrange(numData):\n",
    "    if classes[i] == 0 or classes[i] == 2:\n",
    "        A[numData+numFeatures,numFeatures+i] = 1\n",
    "        A[numFeatures+i,numData+numFeatures] = 1\n",
    "    else:\n",
    "        A[numData+numFeatures+1,numFeatures+i] = 1\n",
    "        A[numFeatures+i,numData+numFeatures+1] = 1\n",
    "\n",
    "#construct D\n",
    "N = A.shape[0]\n",
    "D = sparse.lil_matrix((N,N))\n",
    "a = A.sum(axis=0)\n",
    "for i in range(N):\n",
    "    D[i,i] = a[0,i]\n",
    "L = D-A\n",
    "for i in range(numNodes):\n",
    "    if D[i,i] >-0.0001 and D[i,i] < 0.0001:\n",
    "        print i, D[i,i]\n",
    "# generalized eigenvalue decomposition  Lv = tDv\n",
    "vals, newDataRepresent = sparse.linalg.eigs(L, k=10, M=D)\n",
    "dataset = pd.DataFrame(newDataRepresent[numFeatures:numFeatures+numData])\n",
    "X1 = dataset[classes== 0]\n",
    "X2 = dataset[classes== 1]\n",
    "X3 = dataset[classes== 2]\n",
    "X4 = dataset[classes== 3]\n",
    "\n",
    "Y = pd.Series(classes)\n",
    "\n",
    "Xtrain = pd.concat([X3,X4])\n",
    "Y3 = Y[Y==2]\n",
    "Y4 = Y[Y==3]\n",
    "Ytrain = pd.concat([Y3,Y4])\n",
    "\n",
    "\n",
    "from sklearn import svm\n",
    "clf = svm.LinearSVC()\n",
    "clf.fit(Xtrain,Ytrain)\n",
    "Ypred = clf.predict(Xtrain)\n",
    "print ((Ypred==Ytrain).sum()*1.0)/len(Ytrain)\n",
    "plt.plot(range(len(vals)),vals,'o')\n",
    "plt.show()  "
   ]
  },
  {
   "cell_type": "code",
   "execution_count": 8,
   "metadata": {
    "collapsed": false
   },
   "outputs": [
    {
     "name": "stderr",
     "output_type": "stream",
     "text": [
      "c:\\Anaconda\\lib\\site-packages\\scipy\\sparse\\linalg\\dsolve\\linsolve.py:228: SparseEfficiencyWarning: splu requires CSC matrix format\n",
      "  warn('splu requires CSC matrix format', SparseEfficiencyWarning)\n"
     ]
    }
   ],
   "source": []
  },
  {
   "cell_type": "markdown",
   "metadata": {},
   "source": [
    "<h1>Stage 4: Constructing DataFrame</h1>"
   ]
  },
  {
   "cell_type": "code",
   "execution_count": 12,
   "metadata": {
    "collapsed": false
   },
   "outputs": [
    {
     "data": {
      "image/png": "[encoded data removed]",
      "text/plain": [
       "<matplotlib.figure.Figure at 0x3ed96c88>"
      ]
     },
     "metadata": {},
     "output_type": "display_data"
    }
   ],
   "source": []
  },
  {
   "cell_type": "markdown",
   "metadata": {},
   "source": [
    "<h1>Stage 6: Learning Models</h1>"
   ]
  },
  {
   "cell_type": "code",
   "execution_count": 18,
   "metadata": {
    "collapsed": false
   },
   "outputs": [
    {
     "data": {
      "text/plain": [
       "0.81116974321752944"
      ]
     },
     "execution_count": 18,
     "metadata": {},
     "output_type": "execute_result"
    }
   ],
   "source": []
  },
  {
   "cell_type": "markdown",
   "metadata": {},
   "source": [
    "<h1> Some Test </h1>"
   ]
  },
  {
   "cell_type": "code",
   "execution_count": 10,
   "metadata": {
    "collapsed": false
   },
   "outputs": [
    {
     "ename": "NameError",
     "evalue": "name 'ldaModel' is not defined",
     "output_type": "error",
     "traceback": [
      "\u001b[1;31m---------------------------------------------------------------------------\u001b[0m",
      "\u001b[1;31mNameError\u001b[0m                                 Traceback (most recent call last)",
      "\u001b[1;32m<ipython-input-10-91bbda3234ac>\u001b[0m in \u001b[0;36m<module>\u001b[1;34m()\u001b[0m\n\u001b[0;32m      5\u001b[0m \u001b[0mldaFeatureNum\u001b[0m \u001b[1;33m=\u001b[0m \u001b[1;36m0\u001b[0m\u001b[1;33m\u001b[0m\u001b[0m\n\u001b[0;32m      6\u001b[0m \u001b[1;32mfor\u001b[0m \u001b[0mdata\u001b[0m \u001b[1;32min\u001b[0m \u001b[0mcorpus\u001b[0m\u001b[1;33m:\u001b[0m\u001b[1;33m\u001b[0m\u001b[0m\n\u001b[1;32m----> 7\u001b[1;33m     \u001b[0mldaData\u001b[0m \u001b[1;33m=\u001b[0m \u001b[0mldaModel\u001b[0m\u001b[1;33m[\u001b[0m\u001b[0mdata\u001b[0m\u001b[1;33m]\u001b[0m\u001b[1;33m\u001b[0m\u001b[0m\n\u001b[0m\u001b[0;32m      8\u001b[0m     \u001b[0msparseDataLda\u001b[0m\u001b[1;33m.\u001b[0m\u001b[0mappend\u001b[0m\u001b[1;33m(\u001b[0m\u001b[0mldaData\u001b[0m\u001b[1;33m)\u001b[0m\u001b[1;33m\u001b[0m\u001b[0m\n\u001b[0;32m      9\u001b[0m     \u001b[1;32mfor\u001b[0m \u001b[0mi\u001b[0m \u001b[1;32min\u001b[0m \u001b[0mldaData\u001b[0m\u001b[1;33m:\u001b[0m\u001b[1;33m\u001b[0m\u001b[0m\n",
      "\u001b[1;31mNameError\u001b[0m: name 'ldaModel' is not defined"
     ]
    }
   ],
   "source": [
    "from gensim.models.ldamodel import LdaModel\n",
    "# ldaModel = LdaModel.load('lda.model')\n",
    "\n",
    "sparseDataLda = []\n",
    "ldaFeatureNum = 0\n",
    "for data in corpus:\n",
    "    ldaData = ldaModel[data]\n",
    "    sparseDataLda.append(ldaData)    \n",
    "    for i in ldaData:\n",
    "        ldaFeatureNum = max(ldaFeatureNum,i[0])\n",
    "        \n",
    "numData = len(corpus)\n",
    "ldaFeatureNum = 30\n",
    "dataset = pd.DataFrame(np.zeros((numData,ldaFeatureNum)))\n",
    "\n",
    "for i in range(numData):\n",
    "    for t in sparseDataLda[i]:\n",
    "        dataset[t[0]].ix[i] = t[1]\n",
    "\n",
    "X1 = dataset[classes== 0]\n",
    "X2 = dataset[classes== 1]\n",
    "X3 = dataset[classes== 2]\n",
    "X4 = dataset[classes== 3]\n",
    "\n",
    "Y = pd.Series(classes)\n",
    "\n",
    "Xtrain = pd.concat([X1,X3])\n",
    "Y1 = Y[Y==0]\n",
    "Y3 = Y[Y==2]\n",
    "Ytrain = pd.concat([Y1,Y3])\n",
    "\n",
    "\n",
    "from sklearn import svm\n",
    "clf = svm.LinearSVC()\n",
    "clf.fit(Xtrain,Ytrain)\n",
    "Ypred = clf.predict(Xtrain)\n",
    "((Ypred==Ytrain).sum()*1.0)/len(Ytrain)\n"
   ]
  },
  {
   "cell_type": "code",
   "execution_count": null,
   "metadata": {
    "collapsed": true
   },
   "outputs": [],
   "source": [
    "train = [\n",
    "    ('I love this sandwich.', 'pos'),\n",
    "    ('This is an amazing place!', 'pos'),\n",
    "    ('I feel very good about these beers.', 'pos'),\n",
    "    ('This is my best work.', 'pos'),\n",
    "    (\"What an awesome view\", 'pos'),\n",
    "    ('I do not like this restaurant', 'neg'),\n",
    "    ('I am tired of this stuff.', 'neg'),\n",
    "    (\"I can't deal with this\", 'neg'),\n",
    "    ('He is my sworn enemy!', 'neg'),\n",
    "    ('My boss is horrible.', 'neg')\n",
    "]\n",
    "test = [\n",
    "    ('The beer was good.', 'pos'),\n",
    "    ('I do not enjoy my job', 'neg'),\n",
    "    (\"I ain't feeling dandy today.\", 'neg'),\n",
    "    (\"I feel amazing!\", 'pos'),\n",
    "    ('Gary is a friend of mine.', 'pos'),\n",
    "    (\"I can't believe I'm doing this.\", 'neg')\n",
    "]"
   ]
  },
  {
   "cell_type": "code",
   "execution_count": null,
   "metadata": {
    "collapsed": true
   },
   "outputs": [],
   "source": [
    "def save_sparse_matrix(filename, x):\n",
    "    x_coo = x.tocoo()\n",
    "    row = x_coo.row\n",
    "    col = x_coo.col\n",
    "    data = x_coo.data\n",
    "    shape = x_coo.shape\n",
    "    np.savez(filename, row=row, col=col, data=data, shape=shape)\n",
    "\n",
    "def load_sparse_matrix(filename):\n",
    "    y = np.load(filename)\n",
    "    z = sparse.coo_matrix((y['data'], (y['row'], y['col'])), shape=y['shape'])\n",
    "    return z\n",
    "\n",
    "save_sparse_matrix('/tmp/my_array',x)\n",
    "load_sparse_matrix('/tmp/my_array.npz').tolil()"
   ]
  }
 ],
 "metadata": {
  "kernelspec": {
   "display_name": "Python 2",
   "language": "python",
   "name": "python2"
  },
  "language_info": {
   "codemirror_mode": {
    "name": "ipython",
    "version": 2
   },
   "file_extension": ".py",
   "mimetype": "text/x-python",
   "name": "python",
   "nbconvert_exporter": "python",
   "pygments_lexer": "ipython2",
   "version": "2.7.9"
  }
 },
 "nbformat": 4,
 "nbformat_minor": 0
}
