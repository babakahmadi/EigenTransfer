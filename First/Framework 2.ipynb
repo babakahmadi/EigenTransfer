{
 "cells": [
  {
   "cell_type": "code",
   "execution_count": 1,
   "metadata": {
    "collapsed": true
   },
   "outputs": [],
   "source": [
    "import numpy as np\n",
    "import pandas as pd\n",
    "import networkx as nx\n",
    "import scipy as sp\n",
    "import matplotlib.pyplot as plt\n",
    "get_ipython().magic(u'matplotlib inline')\n",
    "\n",
    "import glob\n",
    "from nltk.stem.porter import *\n",
    "from nltk.tokenize import word_tokenize\n",
    "from nltk.tokenize import RegexpTokenizer\n",
    "import string\n",
    "\n",
    "\n",
    "from nltk.corpus import stopwords\n",
    "from collections import defaultdict\n",
    "from gensim import corpora,models, similarities\n",
    "\n",
    "from scipy import sparse\n",
    "import numpy as np"
   ]
  },
  {
   "cell_type": "code",
   "execution_count": 3,
   "metadata": {
    "collapsed": false
   },
   "outputs": [],
   "source": [
    "corpus = corpora.MmCorpus('run1/corpus.mm')\n",
    "dictionary = corpora.dictionary.Dictionary.load('run1/dictionary.dict')\n",
    "tfidf = models.TfidfModel.load('run1/sraa.tfidf_model')\n",
    "\n",
    "nontfidf = []\n",
    "for i in range(len(dictionary)):\n",
    "    k = tfidf[[(i,1)]]\n",
    "    if len(k) == 0:\n",
    "        nontfidf.append(i)\n",
    "if len(nontfidf) > 0:\n",
    "    print \"ERROR: nontfidf: \", nontfidf\n"
   ]
  },
  {
   "cell_type": "code",
   "execution_count": 7,
   "metadata": {
    "collapsed": false
   },
   "outputs": [
    {
     "name": "stdout",
     "output_type": "stream",
     "text": [
      "4796\n",
      "17445\n",
      "41351\n",
      "9626\n"
     ]
    }
   ],
   "source": [
    "classes = [0,0,1,1]\n",
    "names = ['realaviation','simaviation','realauto','simauto']\n",
    "start = [0,4796,22241,63592]\n",
    "end = [4796,22241,63592,73218]\n",
    "\n",
    "sparseData = []\n",
    "for data in corpus:\n",
    "    sparseData.append(tfidf[data])\n",
    "lens = [0,4796,22241,63592,73218]\n",
    "for i in range(4):\n",
    "    print lens[i+1] - lens[i]\n",
    "\n",
    "numFeatures = len(dictionary.keys())\n",
    "numData = len(sparseData)\n",
    "numNodes = numData + numFeatures + 2\n",
    "\n",
    "labels = np.zeros(numData)\n",
    "A = sparse.lil_matrix((numNodes,numNodes))\n",
    "\n",
    "# construct the labels\n",
    "for i in range(4):\n",
    "    if classes[i] == 1:\n",
    "        labels[start[i]:end[i]] = np.ones(end[i]-start[i])\n",
    "    else:\n",
    "        labels[start[i]:end[i]] = np.zeros(end[i]-start[i])\n",
    "\n",
    "# features: 0-numFeatures\n",
    "# data: numFeature-(numFeature+numData)\n",
    "# label: (numFeature+numData), (numFeature+numData+1)\n",
    "# connect datas to features\n",
    "for i in range(numData):\n",
    "    for t in sparseData[i]:\n",
    "        feature,weight = t[0],t[1]\n",
    "        A[i+numFeatures,feature] = weight\n",
    "        A[feature,i+numFeatures] = weight\n",
    "\n",
    "# connect datas to labels\n",
    "for i in xrange(numData):\n",
    "    A[numData+numFeatures+labels[i],numData+i] = 1\n",
    "    A[numData+i,numData+numFeatures+labels[i]] = 1\n",
    "\n",
    "mask = []\n",
    "for i in range(4):\n",
    "    mask.append(np.zeros(numNodes,dtype=int))\n",
    "    mask[i][start[i]+numFeatures:end[i]+numFeatures] = np.ones(end[i]-start[i])\n"
   ]
  },
  {
   "cell_type": "code",
   "execution_count": 8,
   "metadata": {
    "collapsed": false
   },
   "outputs": [
    {
     "name": "stderr",
     "output_type": "stream",
     "text": [
      "c:\\Anaconda\\lib\\site-packages\\scipy\\sparse\\linalg\\dsolve\\linsolve.py:228: SparseEfficiencyWarning: splu requires CSC matrix format\n",
      "  warn('splu requires CSC matrix format', SparseEfficiencyWarning)\n"
     ]
    }
   ],
   "source": [
    "#construct D\n",
    "N = A.shape[0]\n",
    "D = sparse.lil_matrix((N,N))\n",
    "a = A.sum(axis=0)\n",
    "for i in range(N):\n",
    "    D[i,i] = a[0,i]\n",
    "L = D-A\n",
    "for i in range(numNodes):\n",
    "    if D[i,i] >-0.0001 and D[i,i] < 0.0001:\n",
    "        print i, D[i,i]\n",
    "# generalized eigenvalue decomposition  Lv = tDv\n",
    "vals, vecs = sparse.linalg.eigs(L, k=120, M=D)"
   ]
  },
  {
   "cell_type": "code",
   "execution_count": 5,
   "metadata": {
    "collapsed": false
   },
   "outputs": [
    {
     "data": {
      "text/plain": [
       "73218"
      ]
     },
     "execution_count": 5,
     "metadata": {},
     "output_type": "execute_result"
    }
   ],
   "source": [
    "len(sparseData)"
   ]
  },
  {
   "cell_type": "code",
   "execution_count": 132,
   "metadata": {
    "collapsed": false
   },
   "outputs": [],
   "source": [
    "baze = range(80)\n",
    "plotVecs = vecs[:,baze]\n",
    "data1 = plotVecs[mask[0]==1]\n",
    "data2 = plotVecs[mask[2]==1]\n",
    "data3 = plotVecs[mask[1]==1]\n",
    "data4 = plotVecs[mask[3]==1]"
   ]
  },
  {
   "cell_type": "code",
   "execution_count": 101,
   "metadata": {
    "collapsed": false
   },
   "outputs": [
    {
     "data": {
      "image/png": "[encoded data removed]",
      "text/plain": [
       "<matplotlib.figure.Figure at 0x51215828>"
      ]
     },
     "metadata": {},
     "output_type": "display_data"
    }
   ],
   "source": [
    "\n",
    "plt.plot(data3[:,0].real,data3[:,1].real,'bo')\n",
    "plt.plot(data4[:,0].real,data4[:,1].real,'ro')\n",
    "a = 0.002\n",
    "plt.axis([-a,a,-a,a])\n",
    "plt.savefig('run1/'+str(baze)+'.png')\n",
    "plt.show()"
   ]
  },
  {
   "cell_type": "code",
   "execution_count": 102,
   "metadata": {
    "collapsed": false
   },
   "outputs": [
    {
     "data": {
      "image/png": "[encoded data removed]",
      "text/plain": [
       "<matplotlib.figure.Figure at 0x5b09abe0>"
      ]
     },
     "metadata": {},
     "output_type": "display_data"
    }
   ],
   "source": [
    "plt.plot(data4[:,0].real,data4[:,1].real,'ro')\n",
    "plt.plot(data3[:,0].real,data3[:,1].real,'bo')\n",
    "\n",
    "a = 0.002\n",
    "plt.axis([-a,a,-a,a])\n",
    "plt.savefig('run1/'+str(baze)+'_1.png')\n",
    "plt.show()"
   ]
  },
  {
   "cell_type": "code",
   "execution_count": 26,
   "metadata": {
    "collapsed": false
   },
   "outputs": [
    {
     "name": "stdout",
     "output_type": "stream",
     "text": [
      "(0.000881667612694+0j) (0.000881667612694+0j)\n",
      "(-1.39783024357e-05+0j) (0.0997192078482+0j)\n",
      "(0.000881667612694+0j) (0.000881667612694+0j)\n",
      "(-2.36400780875e-05+0j) (0.0997134969222+0j)\n"
     ]
    }
   ],
   "source": [
    "print data3[:,0].min(),data3[:,0].max()\n",
    "print data3[:,1].min(),data3[:,1].max()\n",
    "print data4[:,0].min(),data4[:,0].max()\n",
    "print data4[:,1].min(),data4[:,1].max()"
   ]
  },
  {
   "cell_type": "code",
   "execution_count": 109,
   "metadata": {
    "collapsed": false
   },
   "outputs": [
    {
     "data": {
      "image/png": "[encoded data removed]",
      "text/plain": [
       "<matplotlib.figure.Figure at 0x1027a9898>"
      ]
     },
     "metadata": {},
     "output_type": "display_data"
    }
   ],
   "source": [
    "plt.plot(range(len(vals)),vals,'mo')\n",
    "\n",
    "plt.savefig('run1/eigenValues.png')\n",
    "plt.show()"
   ]
  },
  {
   "cell_type": "code",
   "execution_count": 133,
   "metadata": {
    "collapsed": false
   },
   "outputs": [
    {
     "name": "stdout",
     "output_type": "stream",
     "text": [
      "(27071, 80)\n"
     ]
    }
   ],
   "source": [
    "from sklearn import svm\n",
    "X1 = pd.DataFrame(data3)\n",
    "X2 = pd.DataFrame(data4)\n",
    "X = pd.concat([X1,X2])\n",
    "print X.shape"
   ]
  },
  {
   "cell_type": "code",
   "execution_count": 134,
   "metadata": {
    "collapsed": false
   },
   "outputs": [],
   "source": [
    "classLabel = np.ones(X.shape[0],dtype=int)\n",
    "classLabel[:X1.shape[0]] = np.zeros(X1.shape[0],dtype=int)"
   ]
  },
  {
   "cell_type": "code",
   "execution_count": 135,
   "metadata": {
    "collapsed": false
   },
   "outputs": [
    {
     "data": {
      "text/plain": [
       "LinearSVC(C=1.0, class_weight=None, dual=True, fit_intercept=True,\n",
       "     intercept_scaling=1, loss='l2', multi_class='ovr', penalty='l2',\n",
       "     random_state=None, tol=0.0001, verbose=0)"
      ]
     },
     "execution_count": 135,
     "metadata": {},
     "output_type": "execute_result"
    }
   ],
   "source": [
    "clf = svm.LinearSVC()\n",
    "clf.fit(X,classLabel)"
   ]
  },
  {
   "cell_type": "code",
   "execution_count": 136,
   "metadata": {
    "collapsed": true
   },
   "outputs": [],
   "source": [
    "pred = clf.predict(X)"
   ]
  },
  {
   "cell_type": "code",
   "execution_count": 137,
   "metadata": {
    "collapsed": false
   },
   "outputs": [
    {
     "data": {
      "text/plain": [
       "0.64574637065494445"
      ]
     },
     "execution_count": 137,
     "metadata": {},
     "output_type": "execute_result"
    }
   ],
   "source": [
    "(pred == classLabel).sum()*1.0/len(pred)"
   ]
  },
  {
   "cell_type": "code",
   "execution_count": 139,
   "metadata": {
    "collapsed": false
   },
   "outputs": [],
   "source": [
    "from gensim.models.ldamodel import LdaModel"
   ]
  },
  {
   "cell_type": "code",
   "execution_count": 140,
   "metadata": {
    "collapsed": true
   },
   "outputs": [],
   "source": [
    "ldaModel = LdaModel(corpus, num_topics=30, id2word = dictionary, passes=20)"
   ]
  },
  {
   "cell_type": "code",
   "execution_count": 142,
   "metadata": {
    "collapsed": false
   },
   "outputs": [],
   "source": [
    "# import pickle\n",
    "# pickle.dump(ldaModel,open('ldaModel','w'))\n",
    "# ldaModel2 = pickle.load(file('ldaModel'))\n",
    "ldaModel.save('run1/lda.model')\n",
    "ldaModel2 = LdaModel.load('run1/lda.model')"
   ]
  },
  {
   "cell_type": "code",
   "execution_count": null,
   "metadata": {
    "collapsed": true
   },
   "outputs": [],
   "source": [
    "# # later on, load trained model from file\n",
    "# model =  models.LdaModel.load('lda.model')\n",
    "\n",
    "# # print all topics\n",
    "# model.show_topics(topics=200, topn=20)\n",
    "\n",
    "# # print topic 28\n",
    "# model.print_topic(109, topn=20)\n",
    "\n",
    "# # another way\n",
    "# for i in range(0, model.num_topics-1):\n",
    "#     print model.print_topic(i)\n",
    "\n",
    "# # and another way, only prints top words\n",
    "# for t in range(0, model.num_topics-1):\n",
    "#     print 'topic {}: '.format(t) + ', '.join([v[1] for v in model.show_topic(t, 20)])"
   ]
  },
  {
   "cell_type": "code",
   "execution_count": 143,
   "metadata": {
    "collapsed": true
   },
   "outputs": [],
   "source": [
    "sparseDataLda = []\n",
    "for data in corpus:\n",
    "    sparseDataLda.append(ldaModel[data])"
   ]
  },
  {
   "cell_type": "code",
   "execution_count": 1,
   "metadata": {
    "collapsed": false
   },
   "outputs": [
    {
     "ename": "NameError",
     "evalue": "name 'sparseDataLda' is not defined",
     "output_type": "error",
     "traceback": [
      "\u001b[1;31m---------------------------------------------------------------------------\u001b[0m",
      "\u001b[1;31mNameError\u001b[0m                                 Traceback (most recent call last)",
      "\u001b[1;32m<ipython-input-1-8a2708fd5fa5>\u001b[0m in \u001b[0;36m<module>\u001b[1;34m()\u001b[0m\n\u001b[1;32m----> 1\u001b[1;33m \u001b[0msparseDataLda\u001b[0m\u001b[1;33m[\u001b[0m\u001b[1;36m0\u001b[0m\u001b[1;33m]\u001b[0m\u001b[1;33m\u001b[0m\u001b[0m\n\u001b[0m",
      "\u001b[1;31mNameError\u001b[0m: name 'sparseDataLda' is not defined"
     ]
    }
   ],
   "source": [
    "sparseDataLda[0]"
   ]
  },
  {
   "cell_type": "code",
   "execution_count": 162,
   "metadata": {
    "collapsed": false
   },
   "outputs": [
    {
     "name": "stdout",
     "output_type": "stream",
     "text": [
      "4796\n",
      "17445\n",
      "41351\n",
      "9626\n"
     ]
    }
   ],
   "source": [
    "lens = [0,4796,22241,63592,73218]\n",
    "for i in range(4):\n",
    "    print lens[i+1] - lens[i]\n",
    "\n",
    "numFeatures = ldaModel.num_topics\n",
    "numData = len(sparseDataLda)\n",
    "\n",
    "labels = np.zeros(numData)\n",
    "sparseX = sparse.lil_matrix((numData,numFeatures))\n",
    "\n",
    "# construct the labels\n",
    "for i in range(4):\n",
    "    if classes[i] == 1:\n",
    "        labels[start[i]:end[i]] = np.ones(end[i]-start[i])\n",
    "    else:\n",
    "        labels[start[i]:end[i]] = np.zeros(end[i]-start[i])\n",
    "\n",
    "minf,maxf = 30,0\n",
    "for i in range(numData):\n",
    "    for t in sparseDataLda[i]:\n",
    "        feature,weight = t[0],t[1]\n",
    "        sparseX[i,feature] = weight\n",
    "        \n",
    "mask = []\n",
    "for i in range(4):\n",
    "    mask.append(np.zeros(numData,dtype=int))\n",
    "    mask[i][start[i]:end[i]] = np.ones(end[i]-start[i])\n"
   ]
  },
  {
   "cell_type": "code",
   "execution_count": 167,
   "metadata": {
    "collapsed": false
   },
   "outputs": [],
   "source": [
    "dataset = pd.DataFrame(sparseX.toarray())"
   ]
  },
  {
   "cell_type": "code",
   "execution_count": 175,
   "metadata": {
    "collapsed": false
   },
   "outputs": [
    {
     "data": {
      "text/html": [
       "<div style=\"max-height:1000px;max-width:1500px;overflow:auto;\">\n",
       "<table border=\"1\" class=\"dataframe\">\n",
       "  <thead>\n",
       "    <tr style=\"text-align: right;\">\n",
       "      <th></th>\n",
       "      <th>0</th>\n",
       "      <th>1</th>\n",
       "      <th>2</th>\n",
       "      <th>3</th>\n",
       "      <th>4</th>\n",
       "      <th>5</th>\n",
       "      <th>6</th>\n",
       "      <th>7</th>\n",
       "      <th>8</th>\n",
       "      <th>9</th>\n",
       "      <th>...</th>\n",
       "      <th>20</th>\n",
       "      <th>21</th>\n",
       "      <th>22</th>\n",
       "      <th>23</th>\n",
       "      <th>24</th>\n",
       "      <th>25</th>\n",
       "      <th>26</th>\n",
       "      <th>27</th>\n",
       "      <th>28</th>\n",
       "      <th>29</th>\n",
       "    </tr>\n",
       "  </thead>\n",
       "  <tbody>\n",
       "    <tr>\n",
       "      <th>0</th>\n",
       "      <td> 0.000000</td>\n",
       "      <td> 0.154106</td>\n",
       "      <td> 0.043651</td>\n",
       "      <td> 0.000000</td>\n",
       "      <td> 0.000000</td>\n",
       "      <td> 0.000000</td>\n",
       "      <td> 0</td>\n",
       "      <td> 0</td>\n",
       "      <td> 0.043292</td>\n",
       "      <td> 0.419101</td>\n",
       "      <td>...</td>\n",
       "      <td> 0.000000</td>\n",
       "      <td> 0</td>\n",
       "      <td> 0.065743</td>\n",
       "      <td> 0</td>\n",
       "      <td> 0.000000</td>\n",
       "      <td> 0</td>\n",
       "      <td> 0</td>\n",
       "      <td> 0</td>\n",
       "      <td> 0.000000</td>\n",
       "      <td> 0.000000</td>\n",
       "    </tr>\n",
       "    <tr>\n",
       "      <th>1</th>\n",
       "      <td> 0.000000</td>\n",
       "      <td> 0.062356</td>\n",
       "      <td> 0.060258</td>\n",
       "      <td> 0.024779</td>\n",
       "      <td> 0.069846</td>\n",
       "      <td> 0.000000</td>\n",
       "      <td> 0</td>\n",
       "      <td> 0</td>\n",
       "      <td> 0.000000</td>\n",
       "      <td> 0.000000</td>\n",
       "      <td>...</td>\n",
       "      <td> 0.000000</td>\n",
       "      <td> 0</td>\n",
       "      <td> 0.128542</td>\n",
       "      <td> 0</td>\n",
       "      <td> 0.000000</td>\n",
       "      <td> 0</td>\n",
       "      <td> 0</td>\n",
       "      <td> 0</td>\n",
       "      <td> 0.000000</td>\n",
       "      <td> 0.000000</td>\n",
       "    </tr>\n",
       "    <tr>\n",
       "      <th>2</th>\n",
       "      <td> 0.000000</td>\n",
       "      <td> 0.104969</td>\n",
       "      <td> 0.000000</td>\n",
       "      <td> 0.028123</td>\n",
       "      <td> 0.419489</td>\n",
       "      <td> 0.000000</td>\n",
       "      <td> 0</td>\n",
       "      <td> 0</td>\n",
       "      <td> 0.000000</td>\n",
       "      <td> 0.018879</td>\n",
       "      <td>...</td>\n",
       "      <td> 0.000000</td>\n",
       "      <td> 0</td>\n",
       "      <td> 0.198660</td>\n",
       "      <td> 0</td>\n",
       "      <td> 0.000000</td>\n",
       "      <td> 0</td>\n",
       "      <td> 0</td>\n",
       "      <td> 0</td>\n",
       "      <td> 0.000000</td>\n",
       "      <td> 0.220789</td>\n",
       "    </tr>\n",
       "    <tr>\n",
       "      <th>3</th>\n",
       "      <td> 0.024706</td>\n",
       "      <td> 0.088973</td>\n",
       "      <td> 0.000000</td>\n",
       "      <td> 0.026759</td>\n",
       "      <td> 0.014372</td>\n",
       "      <td> 0.012875</td>\n",
       "      <td> 0</td>\n",
       "      <td> 0</td>\n",
       "      <td> 0.000000</td>\n",
       "      <td> 0.442303</td>\n",
       "      <td>...</td>\n",
       "      <td> 0.000000</td>\n",
       "      <td> 0</td>\n",
       "      <td> 0.028194</td>\n",
       "      <td> 0</td>\n",
       "      <td> 0.000000</td>\n",
       "      <td> 0</td>\n",
       "      <td> 0</td>\n",
       "      <td> 0</td>\n",
       "      <td> 0.000000</td>\n",
       "      <td> 0.000000</td>\n",
       "    </tr>\n",
       "    <tr>\n",
       "      <th>4</th>\n",
       "      <td> 0.000000</td>\n",
       "      <td> 0.155977</td>\n",
       "      <td> 0.000000</td>\n",
       "      <td> 0.311462</td>\n",
       "      <td> 0.000000</td>\n",
       "      <td> 0.000000</td>\n",
       "      <td> 0</td>\n",
       "      <td> 0</td>\n",
       "      <td> 0.000000</td>\n",
       "      <td> 0.246376</td>\n",
       "      <td>...</td>\n",
       "      <td> 0.101948</td>\n",
       "      <td> 0</td>\n",
       "      <td> 0.000000</td>\n",
       "      <td> 0</td>\n",
       "      <td> 0.081365</td>\n",
       "      <td> 0</td>\n",
       "      <td> 0</td>\n",
       "      <td> 0</td>\n",
       "      <td> 0.010438</td>\n",
       "      <td> 0.000000</td>\n",
       "    </tr>\n",
       "  </tbody>\n",
       "</table>\n",
       "<p>5 rows × 30 columns</p>\n",
       "</div>"
      ],
      "text/plain": [
       "         0         1         2         3         4         5   6   7   \\\n",
       "0  0.000000  0.154106  0.043651  0.000000  0.000000  0.000000   0   0   \n",
       "1  0.000000  0.062356  0.060258  0.024779  0.069846  0.000000   0   0   \n",
       "2  0.000000  0.104969  0.000000  0.028123  0.419489  0.000000   0   0   \n",
       "3  0.024706  0.088973  0.000000  0.026759  0.014372  0.012875   0   0   \n",
       "4  0.000000  0.155977  0.000000  0.311462  0.000000  0.000000   0   0   \n",
       "\n",
       "         8         9     ...           20  21        22  23        24  25  26  \\\n",
       "0  0.043292  0.419101    ...     0.000000   0  0.065743   0  0.000000   0   0   \n",
       "1  0.000000  0.000000    ...     0.000000   0  0.128542   0  0.000000   0   0   \n",
       "2  0.000000  0.018879    ...     0.000000   0  0.198660   0  0.000000   0   0   \n",
       "3  0.000000  0.442303    ...     0.000000   0  0.028194   0  0.000000   0   0   \n",
       "4  0.000000  0.246376    ...     0.101948   0  0.000000   0  0.081365   0   0   \n",
       "\n",
       "   27        28        29  \n",
       "0   0  0.000000  0.000000  \n",
       "1   0  0.000000  0.000000  \n",
       "2   0  0.000000  0.220789  \n",
       "3   0  0.000000  0.000000  \n",
       "4   0  0.010438  0.000000  \n",
       "\n",
       "[5 rows x 30 columns]"
      ]
     },
     "execution_count": 175,
     "metadata": {},
     "output_type": "execute_result"
    }
   ],
   "source": [
    "dataset.head()"
   ]
  },
  {
   "cell_type": "code",
   "execution_count": 185,
   "metadata": {
    "collapsed": false
   },
   "outputs": [],
   "source": [
    "X1 = dataset[mask[0]==1]\n",
    "X2 = dataset[mask[2]==1]\n",
    "X3 = dataset[mask[1]==1]\n",
    "X4 = dataset[mask[3]==1]"
   ]
  },
  {
   "cell_type": "code",
   "execution_count": 186,
   "metadata": {
    "collapsed": false
   },
   "outputs": [
    {
     "name": "stdout",
     "output_type": "stream",
     "text": [
      "(46147, 30)\n"
     ]
    }
   ],
   "source": [
    "from sklearn import svm\n",
    "X = pd.concat([X1,X2])\n",
    "print X.shape"
   ]
  },
  {
   "cell_type": "code",
   "execution_count": 187,
   "metadata": {
    "collapsed": false
   },
   "outputs": [
    {
     "data": {
      "text/plain": [
       "0.96662838321017619"
      ]
     },
     "execution_count": 187,
     "metadata": {},
     "output_type": "execute_result"
    }
   ],
   "source": [
    "classLabel = np.ones(X.shape[0],dtype=int)\n",
    "classLabel[:X1.shape[0]] = np.zeros(X1.shape[0],dtype=int)\n",
    "clf = svm.LinearSVC()\n",
    "clf.fit(X,classLabel)\n",
    "pred = clf.predict(X)\n",
    "(pred == classLabel).sum()*1.0/len(pred)"
   ]
  },
  {
   "cell_type": "code",
   "execution_count": 188,
   "metadata": {
    "collapsed": false
   },
   "outputs": [
    {
     "data": {
      "text/plain": [
       "0.96027910806769667"
      ]
     },
     "execution_count": 188,
     "metadata": {},
     "output_type": "execute_result"
    }
   ],
   "source": [
    "clf2 = svm.SVC(kernel='rbf')\n",
    "clf2.fit(X,classLabel)\n",
    "pred2 = clf2.predict(X)\n",
    "(pred2 == classLabel).sum()*1.0/len(pred)"
   ]
  },
  {
   "cell_type": "code",
   "execution_count": null,
   "metadata": {
    "collapsed": true
   },
   "outputs": [],
   "source": []
  }
 ],
 "metadata": {
  "kernelspec": {
   "display_name": "Python 2",
   "language": "python",
   "name": "python2"
  },
  "language_info": {
   "codemirror_mode": {
    "name": "ipython",
    "version": 2
   },
   "file_extension": ".py",
   "mimetype": "text/x-python",
   "name": "python",
   "nbconvert_exporter": "python",
   "pygments_lexer": "ipython2",
   "version": "2.7.9"
  }
 },
 "nbformat": 4,
 "nbformat_minor": 0
}
