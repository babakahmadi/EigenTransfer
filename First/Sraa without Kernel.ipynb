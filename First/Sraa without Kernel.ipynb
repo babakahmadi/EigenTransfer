{
 "cells": [
  {
   "cell_type": "code",
   "execution_count": 1,
   "metadata": {
    "collapsed": true
   },
   "outputs": [],
   "source": [
    "import numpy as np\n",
    "import pandas as pd\n",
    "import networkx as nx\n",
    "import scipy as sp\n",
    "import matplotlib.pyplot as plt\n",
    "get_ipython().magic(u'matplotlib inline')\n",
    "\n",
    "import glob\n",
    "from nltk.stem.porter import *\n",
    "from nltk.tokenize import word_tokenize\n",
    "from nltk.tokenize import RegexpTokenizer\n",
    "import string\n",
    "\n",
    "\n",
    "from nltk.corpus import stopwords\n",
    "from collections import defaultdict\n",
    "from gensim import corpora,models, similarities\n",
    "\n",
    "from scipy import sparse\n",
    "import numpy as np"
   ]
  },
  {
   "cell_type": "code",
   "execution_count": 2,
   "metadata": {
    "collapsed": true
   },
   "outputs": [],
   "source": [
    "corpus = corpora.MmCorpus('run1/corpus.mm')\n",
    "dictionary = corpora.dictionary.Dictionary.load('run1/dictionary.dict')\n",
    "tfidf = models.TfidfModel.load('run1/sraa.tfidf_model')\n",
    "\n",
    "nontfidf = []\n",
    "for i in range(len(dictionary)):\n",
    "    k = tfidf[[(i,1)]]\n",
    "    if len(k) == 0:\n",
    "        nontfidf.append(i)\n",
    "if len(nontfidf) > 0:\n",
    "    print \"ERROR: nontfidf: \", nontfidf\n"
   ]
  },
  {
   "cell_type": "code",
   "execution_count": 3,
   "metadata": {
    "collapsed": false
   },
   "outputs": [
    {
     "name": "stdout",
     "output_type": "stream",
     "text": [
      "4796\n",
      "17445\n",
      "41351\n",
      "9626\n"
     ]
    }
   ],
   "source": [
    "classes = [0,0,1,1]\n",
    "names = ['realaviation','simaviation','realauto','simauto']\n",
    "start = [0,4796,22241,63592]\n",
    "end = [4796,22241,63592,73218]\n",
    "\n",
    "sparseData = []\n",
    "for data in corpus:\n",
    "    sparseData.append(tfidf[data])\n",
    "lens = [0,4796,22241,63592,73218]\n",
    "for i in range(4):\n",
    "    print lens[i+1] - lens[i]\n",
    "\n",
    "numFeatures = len(dictionary.keys())\n",
    "numData = len(sparseData)\n",
    "\n",
    "labels = np.zeros(numData)\n",
    "\n",
    "# construct the labels\n",
    "for i in range(4):\n",
    "    if classes[i] == 1:\n",
    "        labels[start[i]:end[i]] = np.ones(end[i]-start[i])\n",
    "    else:\n",
    "        labels[start[i]:end[i]] = np.zeros(end[i]-start[i])\n",
    "\n",
    "\n",
    "mask = []\n",
    "for i in range(4):\n",
    "    mask.append(np.zeros(numData,dtype=int))\n",
    "    mask[i][start[i]:end[i]] = np.ones(end[i]-start[i])\n"
   ]
  },
  {
   "cell_type": "code",
   "execution_count": null,
   "metadata": {
    "collapsed": true
   },
   "outputs": [],
   "source": []
  }
 ],
 "metadata": {
  "kernelspec": {
   "display_name": "Python 2",
   "language": "python",
   "name": "python2"
  },
  "language_info": {
   "codemirror_mode": {
    "name": "ipython",
    "version": 2
   },
   "file_extension": ".py",
   "mimetype": "text/x-python",
   "name": "python",
   "nbconvert_exporter": "python",
   "pygments_lexer": "ipython2",
   "version": "2.7.9"
  }
 },
 "nbformat": 4,
 "nbformat_minor": 0
}
