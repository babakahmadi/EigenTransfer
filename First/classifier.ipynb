{
 "cells": [
  {
   "cell_type": "code",
   "execution_count": 1,
   "metadata": {
    "collapsed": true
   },
   "outputs": [],
   "source": [
    "\n",
    "import numpy as np\n",
    "import pandas as pd\n",
    "from matplotlib import pyplot as plt\n",
    "get_ipython().magic(u'matplotlib inline')\n",
    "\n",
    "from gensim.models.ldamodel import LdaModel\n",
    "from gensim import corpora,models, similarities\n",
    "import time\n",
    "\n",
    "import scipy.sparse as sp"
   ]
  },
  {
   "cell_type": "code",
   "execution_count": 2,
   "metadata": {
    "collapsed": false
   },
   "outputs": [
    {
     "data": {
      "image/png": "[encoded data removed]",
      "text/plain": [
       "<matplotlib.figure.Figure at 0xca97710>"
      ]
     },
     "metadata": {},
     "output_type": "display_data"
    }
   ],
   "source": [
    "vals = np.loadtxt('run_sraa/vals.txt', dtype= complex)\n",
    "plt.plot(range(len(vals)) , vals.real , 'o')\n",
    "plt.show()"
   ]
  },
  {
   "cell_type": "code",
   "execution_count": 9,
   "metadata": {
    "collapsed": true
   },
   "outputs": [],
   "source": [
    "corpus = corpora.MmCorpus('run_sraa/all_corpus.mm')\n",
    "dictionary = corpora.dictionary.Dictionary.load('run_sraa/all_dictionary.dict')\n",
    "classes = np.loadtxt('run_sraa/all_classes.dat',dtype=int)\n",
    "model = LdaModel.load('run_sraa/all_sraa.lda_model',mmap='r')"
   ]
  },
  {
   "cell_type": "code",
   "execution_count": 11,
   "metadata": {
    "collapsed": false
   },
   "outputs": [],
   "source": [
    "\n",
    "numData = len(corpus)\n",
    "numFeature = model.num_topics\n",
    "dataset = pd.DataFrame(np.zeros((numData,numFeature)))\n",
    "sparse = sp.lil_matrix((numData,numFeature))\n",
    "i = 0\n",
    "for data in corpus:\n",
    "    for t in model[data]:\n",
    "        sparse[i,t[0]] = t[1]\n",
    "    i += 1\n",
    "\n",
    "dataset = pd.DataFrame(sparse.toarray())\n",
    "Xarray = []\n",
    "for i in range(4):\n",
    "    Xarray.append(dataset[classes==i])\n",
    "# X1 = dataset[classes==0]\n",
    "# X2 = dataset[classes==1]\n",
    "# X3 = dataset[classes==2]\n",
    "# X4 = dataset[classes==3]"
   ]
  },
  {
   "cell_type": "code",
   "execution_count": 18,
   "metadata": {
    "collapsed": false
   },
   "outputs": [
    {
     "name": "stdout",
     "output_type": "stream",
     "text": [
      "0 1 : 0.95171080437\n",
      "0 2 : 0.902962272737\n",
      "0 3 : 0.936485924282\n",
      "1 2 : 0.955609225117\n",
      "1 3 : 0.841860293303\n",
      "2 3 : 0.899130980638\n"
     ]
    }
   ],
   "source": [
    "from sklearn.svm import LinearSVC\n",
    "\n",
    "for i in range(4):\n",
    "    for j in range(i+1,4):\n",
    "        X = pd.concat([Xarray[i],Xarray[j]])\n",
    "        Y = np.zeros(X.shape[0],dtype=int)\n",
    "        Y[:Xarray[i].shape[0]] = np.ones(Xarray[i].shape[0],dtype=int)\n",
    "\n",
    "        clf = LinearSVC()\n",
    "        clf.fit(X,Y)\n",
    "        predict = clf.predict(X)\n",
    "\n",
    "        print i,j,\":\",\n",
    "        print (predict==Y).sum()*1.0/len(predict)\n"
   ]
  },
  {
   "cell_type": "code",
   "execution_count": 15,
   "metadata": {
    "collapsed": false
   },
   "outputs": [
    {
     "name": "stdout",
     "output_type": "stream",
     "text": [
      "\n",
      "sraa\r",
      "ealauto.... is created\n",
      "sraa\r",
      "ealaviation.... is created\n",
      "sraa\\simauto.... is created\n",
      "sraa\\simaviation.... is created\n",
      "\n"
     ]
    }
   ],
   "source": [
    "print '''\n",
    "sraa\\realauto.... is created\n",
    "sraa\\realaviation.... is created\n",
    "sraa\\simauto.... is created\n",
    "sraa\\simaviation.... is created\n",
    "'''"
   ]
  },
  {
   "cell_type": "code",
   "execution_count": 6,
   "metadata": {
    "collapsed": true
   },
   "outputs": [],
   "source": [
    "corpus = corpora.MmCorpus('run_sraa/sraa1_corpus.mm')\n",
    "dictionary = corpora.dictionary.Dictionary.load('run_sraa/sraa1_dictionary.dict')\n",
    "classes = np.loadtxt('run_sraa/sraa1_classes.dat',dtype=int)\n",
    "model = LdaModel.load('run_sraa/sraa1_sraa.lda_model',mmap='r')"
   ]
  },
  {
   "cell_type": "code",
   "execution_count": 7,
   "metadata": {
    "collapsed": false
   },
   "outputs": [
    {
     "name": "stdout",
     "output_type": "stream",
     "text": [
      "sraa1: 0.891322817775\n"
     ]
    }
   ],
   "source": [
    "numData = len(corpus)\n",
    "numFeature = model.num_topics\n",
    "dataset = pd.DataFrame(np.zeros((numData,numFeature)))\n",
    "sparse = sp.lil_matrix((numData,numFeature))\n",
    "i = 0\n",
    "for data in corpus:\n",
    "    for t in model[data]:\n",
    "        sparse[i,t[0]] = t[1]\n",
    "    i += 1\n",
    "\n",
    "dataset = pd.DataFrame(sparse.toarray())\n",
    "X1 = dataset[classes==0]\n",
    "X2 = dataset[classes==1]\n",
    "\n",
    "X = pd.concat([X1,X2])\n",
    "Y = np.zeros(X.shape[0],dtype=int)\n",
    "Y[:X1.shape[0]] = np.ones(X1.shape[0],dtype=int)\n",
    "\n",
    "clf = LinearSVC()\n",
    "clf.fit(X,Y)\n",
    "predict = clf.predict(X)\n",
    "\n",
    "print \"sraa1:\",\n",
    "print (predict==Y).sum()*1.0/len(predict)"
   ]
  },
  {
   "cell_type": "code",
   "execution_count": 8,
   "metadata": {
    "collapsed": false
   },
   "outputs": [
    {
     "name": "stdout",
     "output_type": "stream",
     "text": [
      "sraa2: 0.864782156659\n"
     ]
    }
   ],
   "source": [
    "corpus = corpora.MmCorpus('run_sraa/sraa2_corpus.mm')\n",
    "dictionary = corpora.dictionary.Dictionary.load('run_sraa/sraa2_dictionary.dict')\n",
    "classes = np.loadtxt('run_sraa/sraa2_classes.dat',dtype=int)\n",
    "model = LdaModel.load('run_sraa/sraa2_sraa.lda_model',mmap='r')\n",
    "\n",
    "\n",
    "numData = len(corpus)\n",
    "numFeature = model.num_topics\n",
    "dataset = pd.DataFrame(np.zeros((numData,numFeature)))\n",
    "sparse = sp.lil_matrix((numData,numFeature))\n",
    "i = 0\n",
    "for data in corpus:\n",
    "    for t in model[data]:\n",
    "        sparse[i,t[0]] = t[1]\n",
    "    i += 1\n",
    "\n",
    "\n",
    "dataset = pd.DataFrame(sparse.toarray())\n",
    "X1 = dataset[classes==0]\n",
    "X2 = dataset[classes==1]\n",
    "\n",
    "X = pd.concat([X1,X2])\n",
    "Y = np.zeros(X.shape[0],dtype=int)\n",
    "Y[:X1.shape[0]] = np.ones(X1.shape[0],dtype=int)\n",
    "\n",
    "clf = LinearSVC()\n",
    "clf.fit(X,Y)\n",
    "predict = clf.predict(X)\n",
    "\n",
    "print \"sraa2:\",\n",
    "print (predict==Y).sum()*1.0/len(predict)"
   ]
  },
  {
   "cell_type": "code",
   "execution_count": null,
   "metadata": {
    "collapsed": true
   },
   "outputs": [],
   "source": []
  }
 ],
 "metadata": {
  "kernelspec": {
   "display_name": "Python 2",
   "language": "python",
   "name": "python2"
  },
  "language_info": {
   "codemirror_mode": {
    "name": "ipython",
    "version": 2
   },
   "file_extension": ".py",
   "mimetype": "text/x-python",
   "name": "python",
   "nbconvert_exporter": "python",
   "pygments_lexer": "ipython2",
   "version": "2.7.9"
  }
 },
 "nbformat": 4,
 "nbformat_minor": 0
}
