{
 "cells": [
  {
   "cell_type": "markdown",
   "metadata": {},
   "source": [
    "# <b>Generating data for Algorithm Project</b>"
   ]
  },
  {
   "cell_type": "code",
   "execution_count": 2,
   "metadata": {
    "collapsed": true
   },
   "outputs": [],
   "source": [
    "import numpy as np\n",
    "import pandas as pd\n",
    "import networkx as nx\n",
    "import scipy as sp\n",
    "import matplotlib.pyplot as plt\n",
    "get_ipython().magic(u'matplotlib inline')\n",
    "\n",
    "import glob\n",
    "from nltk.stem.porter import *\n",
    "from nltk.tokenize import word_tokenize\n",
    "from nltk.tokenize import RegexpTokenizer\n",
    "import string\n",
    "\n",
    "files1 = glob.glob('sraa/realaviation/*')\n",
    "files2 = glob.glob('sraa/simaviation/*')\n",
    "files3 = glob.glob('sraa/realauto/*')\n",
    "files4 = glob.glob('sraa/simauto/*')\n",
    "\n",
    "\n",
    "utf8 = ['\\x83', '\\x93', '\\x97', '\\xa3', '\\xa7', '\\xab', '\\xaf', '\\xb3', '\\xb7', '\\xbb', '\\xbf', '\\xc3', \n",
    "        '\\xc7', '\\xcb', '\\xcf', '\\xd3', '\\xd7', '\\xdb', '\\xdf', '\\xe3', '\\xe7', '\\xeb', '\\xef', '\\xf3', \n",
    "        '\\xf7', '\\xfb', '\\x84', '\\x88', '\\x90', '\\x94', '\\x9c', '\\xa0', '\\xa4', '\\xa8', '\\xac', '\\xb0', \n",
    "        '\\xb4', '\\xb8', '\\xbc', '\\xc0', '\\xc4', '\\xc8', '\\xcc', '\\xd0', '\\xd4', '\\xd8', '\\xdc', '\\xe0', \n",
    "        '\\xe4', '\\xe8', '\\xec', '\\xf0', '\\xf4', '\\xf8', '\\xfc', '\\x85', '\\x91', '\\x95', '\\x99', '\\xa1', \n",
    "        '\\xa5', '\\xa9', '\\xad', '\\xb1', '\\xb5', '\\xb9', '\\xbd', '\\xc1', '\\xc5', '\\xc9', '\\xcd', '\\xd1', \n",
    "        '\\xd5', '\\xd9', '\\xdd', '\\xe1', '\\xe5', '\\xe9', '\\xed', '\\xf1', '\\xf5', '\\xf9', '\\xfd', '\\x92', \n",
    "        '\\x96', '\\xa2', '\\xa6', '\\xaa', '\\xae', '\\xb2', '\\xb6', '\\xba', '\\xbe', '\\xc2', '\\xc6', '\\xca', '\\xce', \n",
    "        '\\xd2', '\\xd6', '\\xda', '\\xde', '\\xe2', '\\xe6', '\\xea', '\\xee', '\\xf2', '\\xf6', '\\xfa', '\\xfe']\n",
    "\n",
    "nontfidf = [ 'subject', 'line', 'xref', 'newsgroup', 'date', 'path', 'news.jprc.com', 'message-id']\n",
    "directory = glob.glob('sraa/*')\n",
    "stemmer = PorterStemmer()"
   ]
  },
  {
   "cell_type": "code",
   "execution_count": 3,
   "metadata": {
    "collapsed": false
   },
   "outputs": [
    {
     "name": "stdout",
     "output_type": "stream",
     "text": [
      "sraa\\realauto\n",
      "sraa\\realaviation\n",
      "sraa\\simauto\n",
      "sraa\\simaviation\n"
     ]
    }
   ],
   "source": [
    "\n",
    "documents = []\n",
    "\n",
    "for folder in directory:\n",
    "    print folder\n",
    "    tmp = []\n",
    "    files = glob.glob(folder+\"/*\")\n",
    "    nums = 0\n",
    "    for fileName in files:\n",
    "        f = open(fileName,'r')\n",
    "        data = f.read()\n",
    "        data = ''.join(i if ord(i)<128 else ' ' for i in data )\n",
    "        data = data.lower()\n",
    "        \n",
    "        #toker = RegexpTokenizer(r'((?<=[^\\w\\s])\\w(?=[^\\w\\s])|(\\W))+', gaps=True)\n",
    "        #dataA = toker.tokenize(data)\n",
    "        \n",
    "        dataA = word_tokenize(data)\n",
    "        dataA_without_punc = [i for i in dataA if i not in string.punctuation]\n",
    "        \n",
    "        single = ' '.join([stemmer.stem(w) for w in dataA_without_punc])\n",
    "        tmp.append(single)\n",
    "    documents.append(tmp)"
   ]
  },
  {
   "cell_type": "code",
   "execution_count": 4,
   "metadata": {
    "collapsed": true
   },
   "outputs": [],
   "source": [
    "from nltk.corpus import stopwords\n",
    "from collections import defaultdict\n",
    "from gensim import corpora,models, similarities\n",
    "\n",
    "def preprocess(documents):\n",
    "    # documents = ['babak is khar','hasan is good']\n",
    "    stopList = stopwords.words('english')\n",
    "    print len(stopList)\n",
    "    texts = [[word for word in document.lower().split() if word not in stopList+nontfidf]\n",
    "         for document in documents]\n",
    "    frequency = defaultdict(int)\n",
    "    for text in texts:\n",
    "        for token in text:\n",
    "            frequency[token] += 1\n",
    "\n",
    "    return [[token for token in text if frequency[token] > 1]\n",
    "        for text in texts]\n",
    "    \n",
    "    \n",
    "    \n",
    "def makeCorpus(texts):\n",
    "    # texts = [['babak', 'is' , 'khar'],['hasan', 'is','good']]\n",
    "    # it means we do some preprocess like: stopword, common word, ...\n",
    "    dictionary = corpora.Dictionary(texts)\n",
    "    dictionary.save('dictionary.dict')\n",
    "#     print dictionary.token2id\n",
    "    return [dictionary.doc2bow(text) for text in texts]\n"
   ]
  },
  {
   "cell_type": "code",
   "execution_count": 5,
   "metadata": {
    "collapsed": false
   },
   "outputs": [
    {
     "name": "stdout",
     "output_type": "stream",
     "text": [
      "127\n",
      "73218\n"
     ]
    }
   ],
   "source": [
    "alldocs = []\n",
    "for docs in documents:\n",
    "    for doc in docs:\n",
    "        alldocs.append(doc)\n",
    "\n",
    "        \n",
    "texts = preprocess(alldocs)\n",
    "corpus = makeCorpus(texts)\n",
    "corpora.MmCorpus.serialize('run1/corpus.mm', corpus)\n",
    "print len(corpus)\n"
   ]
  },
  {
   "cell_type": "code",
   "execution_count": 6,
   "metadata": {
    "collapsed": true
   },
   "outputs": [],
   "source": [
    "corpus = corpora.MmCorpus('run1/corpus.mm')"
   ]
  },
  {
   "cell_type": "code",
   "execution_count": 7,
   "metadata": {
    "collapsed": false
   },
   "outputs": [],
   "source": [
    "dictionary = corpora.Dictionary(texts)\n",
    "names = ['realaviation','simaviation','realauto','simauto']\n",
    "\n",
    "for i in range(4):\n",
    "    corp = [dictionary.doc2bow(text.split()) for text in documents[i]]\n",
    "    corpora.MmCorpus.serialize('run1/corpus_'+names[i]+'.mm',corp)\n"
   ]
  },
  {
   "cell_type": "code",
   "execution_count": 8,
   "metadata": {
    "collapsed": false
   },
   "outputs": [
    {
     "name": "stdout",
     "output_type": "stream",
     "text": [
      "[(0, 0.03049727979331613), (4, 0.9995348497802407)]\n"
     ]
    }
   ],
   "source": [
    "tfidf = models.TfidfModel(corpus)\n",
    "vec = [(0, 1), (4, 1)]\n",
    "print tfidf[vec]"
   ]
  },
  {
   "cell_type": "code",
   "execution_count": 9,
   "metadata": {
    "collapsed": true
   },
   "outputs": [],
   "source": [
    "tfidf.save('run1/sraa.tfidf_model')"
   ]
  },
  {
   "cell_type": "code",
   "execution_count": 10,
   "metadata": {
    "collapsed": false
   },
   "outputs": [],
   "source": [
    "tfidf2 = models.TfidfModel.load('run1/sraa.tfidf_model')"
   ]
  },
  {
   "cell_type": "code",
   "execution_count": 11,
   "metadata": {
    "collapsed": false
   },
   "outputs": [
    {
     "name": "stdout",
     "output_type": "stream",
     "text": [
      "0 0.0304972797933\n",
      "4 0.99953484978\n"
     ]
    }
   ],
   "source": [
    "vec2 = [(0, 1), (4, 1)]\n",
    "a = tfidf2[vec2]\n",
    "for i in a:\n",
    "    print i[0],i[1]"
   ]
  },
  {
   "cell_type": "code",
   "execution_count": 12,
   "metadata": {
    "collapsed": false
   },
   "outputs": [],
   "source": [
    "sparseData = []\n",
    "for data in corpus:\n",
    "    sparseData.append(tfidf2[data])"
   ]
  },
  {
   "cell_type": "code",
   "execution_count": 13,
   "metadata": {
    "collapsed": false
   },
   "outputs": [
    {
     "name": "stdout",
     "output_type": "stream",
     "text": [
      "4796\n",
      "17445\n",
      "41351\n",
      "9626\n"
     ]
    }
   ],
   "source": [
    "lens = [0,4796,22241,63592,73218]\n",
    "for i in range(4):\n",
    "    print lens[i+1] - lens[i]"
   ]
  },
  {
   "cell_type": "code",
   "execution_count": 37,
   "metadata": {
    "collapsed": false
   },
   "outputs": [],
   "source": [
    "names = ['run2/realaviation','run2/simaviation','run2/realauto','run2/simauto']\n",
    "labels = [0,1,0,1]\n",
    "start = [0,4796,22241,63592]\n",
    "end = [4796,22241,63592,73218]\n",
    "k = 0\n",
    "def writeline(a):\n",
    "    return str(a)+'\\n'\n",
    "for i in range(4):\n",
    "    with open(names[i],'w') as f:\n",
    "        f.writelines(map(str,sparseData[start[i]:end[i]]))\n",
    "#         for j in range(start[i],end[i]):\n",
    "#             f.write(str(sparseData[j]))"
   ]
  },
  {
   "cell_type": "code",
   "execution_count": 38,
   "metadata": {
    "collapsed": false
   },
   "outputs": [
    {
     "name": "stdout",
     "output_type": "stream",
     "text": [
      "223777\n",
      "73218\n",
      "296997\n"
     ]
    }
   ],
   "source": [
    "numFeatures = len(dictionary.keys())\n",
    "print numFeatures\n",
    "print len(alldocs)\n",
    "print len(alldocs) + numFeatures + 2"
   ]
  },
  {
   "cell_type": "code",
   "execution_count": 39,
   "metadata": {
    "collapsed": true
   },
   "outputs": [],
   "source": [
    "# import gensim\n",
    "# corpus = gensim.matutils.Sparse2Corpus(scipy_sparse_matrix)\n",
    "# scipy_csc_matrix = gensim.matutils.corpus2csc(corpus)"
   ]
  },
  {
   "cell_type": "code",
   "execution_count": 40,
   "metadata": {
    "collapsed": true
   },
   "outputs": [],
   "source": [
    "# Construct graph\n",
    "from scipy import sparse\n",
    "numNodes = len(alldocs) + numFeatures + 2\n",
    "A = sparse.lil_matrix((numNodes,numNodes))\n"
   ]
  },
  {
   "cell_type": "code",
   "execution_count": 41,
   "metadata": {
    "collapsed": true
   },
   "outputs": [],
   "source": [
    "import numpy as np\n",
    "L = [0,0,1,1]\n",
    "labels = np.zeros(len(alldocs))\n",
    "names = ['realaviation','simaviation','realauto','simauto']\n",
    "start = [0,4796,22241,63592]\n",
    "end = [4796,22241,63592,73218]\n",
    "\n",
    "numFeatures = len(dictionary.keys())\n",
    "numData = len(sparseData)\n",
    "\n",
    "for i in range(4):\n",
    "    if L[i] == 1:\n",
    "        labels[start[i]:end[i]] = np.ones(end[i]-start[i])\n",
    "    else:\n",
    "        labels[start[i]:end[i]] = np.zeros(end[i]-start[i])"
   ]
  },
  {
   "cell_type": "code",
   "execution_count": 42,
   "metadata": {
    "collapsed": false
   },
   "outputs": [],
   "source": [
    "# features: 0-numFeatures\n",
    "# data: numFeature-(numFeature+numData)\n",
    "# label: (numFeature+numData), (numFeature+numData+1)\n",
    "# connect datas to features\n",
    "for i in range(numData):\n",
    "    for t in sparseData[i]:\n",
    "        feature,weight = t[0],t[1]\n",
    "        A[i+numFeatures,feature] = weight\n",
    "        A[feature,i+numFeatures] = weight\n",
    "\n",
    "# connect datas to labels\n",
    "for i in xrange(numData):\n",
    "    A[numData+numFeatures+labels[i],numData+i] = 1\n",
    "    A[numData+i,numData+numFeatures+labels[i]] = 1"
   ]
  },
  {
   "cell_type": "code",
   "execution_count": 43,
   "metadata": {
    "collapsed": false
   },
   "outputs": [],
   "source": [
    "numNodes = numData+numFeatures+2\n",
    "mask = []\n",
    "for i in range(4):\n",
    "    mask.append(np.zeros(numNodes,dtype=int))\n",
    "    mask[i][start[i]+numFeatures:end[i]+numFeatures] = np.ones(end[i]-start[i])"
   ]
  },
  {
   "cell_type": "code",
   "execution_count": 44,
   "metadata": {
    "collapsed": false
   },
   "outputs": [],
   "source": [
    "#construct D\n",
    "N = A.shape[0]\n",
    "D = sparse.lil_matrix((N,N))\n",
    "a = A.sum(axis=0)\n",
    "for i in range(N):\n",
    "    D[i,i] = a[0,i]\n",
    "L = D-A"
   ]
  },
  {
   "cell_type": "code",
   "execution_count": 45,
   "metadata": {
    "collapsed": false
   },
   "outputs": [],
   "source": [
    "for i in range(numNodes):\n",
    "    if D[i,i] >-0.0001 and D[i,i] < 0.0001:\n",
    "        print i, D[i,i]"
   ]
  },
  {
   "cell_type": "code",
   "execution_count": 47,
   "metadata": {
    "collapsed": false
   },
   "outputs": [],
   "source": [
    "# generalized eigenvalue decomposition  Lv = tDv\n",
    "vals, vecs = sparse.linalg.eigs(L, k=120, M=D)"
   ]
  },
  {
   "cell_type": "code",
   "execution_count": 49,
   "metadata": {
    "collapsed": false
   },
   "outputs": [],
   "source": [
    "points = (vecs[0:2].real)"
   ]
  },
  {
   "cell_type": "code",
   "execution_count": 50,
   "metadata": {
    "collapsed": false
   },
   "outputs": [
    {
     "data": {
      "text/plain": [
       "[<matplotlib.lines.Line2D at 0x4222cbe0>]"
      ]
     },
     "execution_count": 50,
     "metadata": {},
     "output_type": "execute_result"
    },
    {
     "data": {
      "image/png": "[encoded data removed]",
      "text/plain": [
       "<matplotlib.figure.Figure at 0x3928d710>"
      ]
     },
     "metadata": {},
     "output_type": "display_data"
    }
   ],
   "source": [
    "plt.plot(points[0],points[1],'x')"
   ]
  },
  {
   "cell_type": "code",
   "execution_count": 51,
   "metadata": {
    "collapsed": false
   },
   "outputs": [
    {
     "data": {
      "text/plain": [
       "[<matplotlib.lines.Line2D at 0x46932c18>]"
      ]
     },
     "execution_count": 51,
     "metadata": {},
     "output_type": "execute_result"
    },
    {
     "data": {
      "image/png": "[encoded data removed]",
      "text/plain": [
       "<matplotlib.figure.Figure at 0x342a0320>"
      ]
     },
     "metadata": {},
     "output_type": "display_data"
    }
   ],
   "source": [
    "plt.plot(range(120),vals,'o')"
   ]
  },
  {
   "cell_type": "code",
   "execution_count": null,
   "metadata": {
    "collapsed": false
   },
   "outputs": [],
   "source": [
    "# import sklearn.decomposition as deco\n",
    "# import numpy as np\n",
    "\n",
    "# t = (vecs - np.mean(vecs,0))/np.std(vecs,0)\n",
    "# pca = deco.PCA(2)\n",
    "# t_r = pca.fit(t).transform(t)\n",
    "# print ('explained variance (first %d components): %.2f'%(2, sum(pca.explained_variance_ratio_)))"
   ]
  },
  {
   "cell_type": "code",
   "execution_count": null,
   "metadata": {
    "collapsed": false,
    "scrolled": true
   },
   "outputs": [],
   "source": [
    "# plt.plot(t_r[:,0],t_r[:,1],'o')"
   ]
  },
  {
   "cell_type": "code",
   "execution_count": 65,
   "metadata": {
    "collapsed": true
   },
   "outputs": [],
   "source": [
    "import pandas as pd\n",
    "savedVals = vals.real\n",
    "savedVecs = pd.DataFrame(vecs.real)"
   ]
  },
  {
   "cell_type": "code",
   "execution_count": 53,
   "metadata": {
    "collapsed": false
   },
   "outputs": [],
   "source": [
    "np.savetxt('run2/vals.txt',savedVals)"
   ]
  },
  {
   "cell_type": "code",
   "execution_count": 76,
   "metadata": {
    "collapsed": false
   },
   "outputs": [
    {
     "name": "stdout",
     "output_type": "stream",
     "text": [
      "(296997, 120)\n"
     ]
    },
    {
     "ename": "TypeError",
     "evalue": "unhashable type",
     "output_type": "error",
     "traceback": [
      "\u001b[1;31m---------------------------------------------------------------------------\u001b[0m",
      "\u001b[1;31mTypeError\u001b[0m                                 Traceback (most recent call last)",
      "\u001b[1;32m<ipython-input-76-0f3003027214>\u001b[0m in \u001b[0;36m<module>\u001b[1;34m()\u001b[0m\n\u001b[0;32m      1\u001b[0m \u001b[1;32mprint\u001b[0m \u001b[0msavedVecs\u001b[0m\u001b[1;33m.\u001b[0m\u001b[0mshape\u001b[0m\u001b[1;33m\u001b[0m\u001b[0m\n\u001b[1;32m----> 2\u001b[1;33m \u001b[1;32mprint\u001b[0m \u001b[0mstr\u001b[0m\u001b[1;33m(\u001b[0m\u001b[0msavedVecs\u001b[0m\u001b[1;33m[\u001b[0m\u001b[1;33m:\u001b[0m\u001b[1;33m,\u001b[0m\u001b[1;36m1\u001b[0m\u001b[1;33m]\u001b[0m\u001b[1;33m)\u001b[0m\u001b[1;33m\u001b[0m\u001b[0m\n\u001b[0m",
      "\u001b[1;32mc:\\Anaconda\\lib\\site-packages\\pandas\\core\\frame.pyc\u001b[0m in \u001b[0;36m__getitem__\u001b[1;34m(self, key)\u001b[0m\n\u001b[0;32m   1778\u001b[0m             \u001b[1;32mreturn\u001b[0m \u001b[0mself\u001b[0m\u001b[1;33m.\u001b[0m\u001b[0m_getitem_multilevel\u001b[0m\u001b[1;33m(\u001b[0m\u001b[0mkey\u001b[0m\u001b[1;33m)\u001b[0m\u001b[1;33m\u001b[0m\u001b[0m\n\u001b[0;32m   1779\u001b[0m         \u001b[1;32melse\u001b[0m\u001b[1;33m:\u001b[0m\u001b[1;33m\u001b[0m\u001b[0m\n\u001b[1;32m-> 1780\u001b[1;33m             \u001b[1;32mreturn\u001b[0m \u001b[0mself\u001b[0m\u001b[1;33m.\u001b[0m\u001b[0m_getitem_column\u001b[0m\u001b[1;33m(\u001b[0m\u001b[0mkey\u001b[0m\u001b[1;33m)\u001b[0m\u001b[1;33m\u001b[0m\u001b[0m\n\u001b[0m\u001b[0;32m   1781\u001b[0m \u001b[1;33m\u001b[0m\u001b[0m\n\u001b[0;32m   1782\u001b[0m     \u001b[1;32mdef\u001b[0m \u001b[0m_getitem_column\u001b[0m\u001b[1;33m(\u001b[0m\u001b[0mself\u001b[0m\u001b[1;33m,\u001b[0m \u001b[0mkey\u001b[0m\u001b[1;33m)\u001b[0m\u001b[1;33m:\u001b[0m\u001b[1;33m\u001b[0m\u001b[0m\n",
      "\u001b[1;32mc:\\Anaconda\\lib\\site-packages\\pandas\\core\\frame.pyc\u001b[0m in \u001b[0;36m_getitem_column\u001b[1;34m(self, key)\u001b[0m\n\u001b[0;32m   1785\u001b[0m         \u001b[1;31m# get column\u001b[0m\u001b[1;33m\u001b[0m\u001b[1;33m\u001b[0m\u001b[0m\n\u001b[0;32m   1786\u001b[0m         \u001b[1;32mif\u001b[0m \u001b[0mself\u001b[0m\u001b[1;33m.\u001b[0m\u001b[0mcolumns\u001b[0m\u001b[1;33m.\u001b[0m\u001b[0mis_unique\u001b[0m\u001b[1;33m:\u001b[0m\u001b[1;33m\u001b[0m\u001b[0m\n\u001b[1;32m-> 1787\u001b[1;33m             \u001b[1;32mreturn\u001b[0m \u001b[0mself\u001b[0m\u001b[1;33m.\u001b[0m\u001b[0m_get_item_cache\u001b[0m\u001b[1;33m(\u001b[0m\u001b[0mkey\u001b[0m\u001b[1;33m)\u001b[0m\u001b[1;33m\u001b[0m\u001b[0m\n\u001b[0m\u001b[0;32m   1788\u001b[0m \u001b[1;33m\u001b[0m\u001b[0m\n\u001b[0;32m   1789\u001b[0m         \u001b[1;31m# duplicate columns & possible reduce dimensionaility\u001b[0m\u001b[1;33m\u001b[0m\u001b[1;33m\u001b[0m\u001b[0m\n",
      "\u001b[1;32mc:\\Anaconda\\lib\\site-packages\\pandas\\core\\generic.pyc\u001b[0m in \u001b[0;36m_get_item_cache\u001b[1;34m(self, item)\u001b[0m\n\u001b[0;32m   1064\u001b[0m         \u001b[1;34m\"\"\" return the cached item, item represents a label indexer \"\"\"\u001b[0m\u001b[1;33m\u001b[0m\u001b[0m\n\u001b[0;32m   1065\u001b[0m         \u001b[0mcache\u001b[0m \u001b[1;33m=\u001b[0m \u001b[0mself\u001b[0m\u001b[1;33m.\u001b[0m\u001b[0m_item_cache\u001b[0m\u001b[1;33m\u001b[0m\u001b[0m\n\u001b[1;32m-> 1066\u001b[1;33m         \u001b[0mres\u001b[0m \u001b[1;33m=\u001b[0m \u001b[0mcache\u001b[0m\u001b[1;33m.\u001b[0m\u001b[0mget\u001b[0m\u001b[1;33m(\u001b[0m\u001b[0mitem\u001b[0m\u001b[1;33m)\u001b[0m\u001b[1;33m\u001b[0m\u001b[0m\n\u001b[0m\u001b[0;32m   1067\u001b[0m         \u001b[1;32mif\u001b[0m \u001b[0mres\u001b[0m \u001b[1;32mis\u001b[0m \u001b[0mNone\u001b[0m\u001b[1;33m:\u001b[0m\u001b[1;33m\u001b[0m\u001b[0m\n\u001b[0;32m   1068\u001b[0m             \u001b[0mvalues\u001b[0m \u001b[1;33m=\u001b[0m \u001b[0mself\u001b[0m\u001b[1;33m.\u001b[0m\u001b[0m_data\u001b[0m\u001b[1;33m.\u001b[0m\u001b[0mget\u001b[0m\u001b[1;33m(\u001b[0m\u001b[0mitem\u001b[0m\u001b[1;33m)\u001b[0m\u001b[1;33m\u001b[0m\u001b[0m\n",
      "\u001b[1;31mTypeError\u001b[0m: unhashable type"
     ]
    }
   ],
   "source": []
  },
  {
   "cell_type": "code",
   "execution_count": 72,
   "metadata": {
    "collapsed": false
   },
   "outputs": [
    {
     "data": {
      "text/plain": [
       "296997"
      ]
     },
     "execution_count": 72,
     "metadata": {},
     "output_type": "execute_result"
    }
   ],
   "source": [
    "names = ['realaviation','simaviation','realauto','simauto']\n",
    "for i in range(4):\n",
    "    with open('vec_'+names[i]+'.txt','w') as f:\n",
    "        if mask[i] == 1:\n",
    "            f.write(str(savedVecs[i])+'\\n')\n",
    "    "
   ]
  },
  {
   "cell_type": "code",
   "execution_count": 71,
   "metadata": {
    "collapsed": false
   },
   "outputs": [],
   "source": [
    "\n",
    "\n",
    "data = []\n",
    "for i in range(4):\n",
    "    data.append(savedVecs[mask[i]].as_matrix() )\n",
    "for i in range(4):\n",
    "    print len(data[i])\n"
   ]
  },
  {
   "cell_type": "code",
   "execution_count": null,
   "metadata": {
    "collapsed": false
   },
   "outputs": [],
   "source": [
    "for i in range(4):\n",
    "    np.savetxt('run2/vec_'+names[i]+'.txt',data[i])"
   ]
  },
  {
   "cell_type": "code",
   "execution_count": null,
   "metadata": {
    "collapsed": false
   },
   "outputs": [],
   "source": [
    "a = pd.DataFrame([1,1])"
   ]
  },
  {
   "cell_type": "code",
   "execution_count": 77,
   "metadata": {
    "collapsed": true
   },
   "outputs": [],
   "source": [
    "np.savetxt('run2/vecs.txt',savedVecs)"
   ]
  },
  {
   "cell_type": "code",
   "execution_count": 78,
   "metadata": {
    "collapsed": false
   },
   "outputs": [
    {
     "data": {
      "text/plain": [
       "223777"
      ]
     },
     "execution_count": 78,
     "metadata": {},
     "output_type": "execute_result"
    }
   ],
   "source": [
    "numFeatures"
   ]
  },
  {
   "cell_type": "code",
   "execution_count": 79,
   "metadata": {
    "collapsed": false
   },
   "outputs": [
    {
     "data": {
      "text/plain": [
       "73218"
      ]
     },
     "execution_count": 79,
     "metadata": {},
     "output_type": "execute_result"
    }
   ],
   "source": [
    "numData"
   ]
  }
 ],
 "metadata": {
  "kernelspec": {
   "display_name": "Python 2",
   "language": "python",
   "name": "python2"
  },
  "language_info": {
   "codemirror_mode": {
    "name": "ipython",
    "version": 2
   },
   "file_extension": ".py",
   "mimetype": "text/x-python",
   "name": "python",
   "nbconvert_exporter": "python",
   "pygments_lexer": "ipython2",
   "version": "2.7.9"
  }
 },
 "nbformat": 4,
 "nbformat_minor": 0
}
